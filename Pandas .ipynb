{
 "cells": [
  {
   "cell_type": "code",
   "execution_count": 1,
   "id": "e9b9c10c",
   "metadata": {},
   "outputs": [],
   "source": [
    "import pandas as pd "
   ]
  },
  {
   "cell_type": "code",
   "execution_count": 2,
   "id": "3933b97e",
   "metadata": {},
   "outputs": [],
   "source": [
    "var = {'cars': ['volvo', 'BMW'], 'price': [120, 1440]}"
   ]
  },
  {
   "cell_type": "code",
   "execution_count": 3,
   "id": "47cb33ec",
   "metadata": {},
   "outputs": [
    {
     "name": "stdout",
     "output_type": "stream",
     "text": [
      "    cars  price\n",
      "0  volvo    120\n",
      "1    BMW   1440\n"
     ]
    }
   ],
   "source": [
    "dataset = pd.DataFrame(var)\n",
    "\n",
    "print(dataset)"
   ]
  },
  {
   "cell_type": "code",
   "execution_count": 4,
   "id": "f47b12af",
   "metadata": {},
   "outputs": [
    {
     "name": "stdout",
     "output_type": "stream",
     "text": [
      "0       100\n",
      "1    Morini\n",
      "2       100\n",
      "dtype: object\n"
     ]
    }
   ],
   "source": [
    "a = [100, 'Morini', '100']\n",
    "\n",
    "x = pd.Series(a)\n",
    "\n",
    "print(x)"
   ]
  },
  {
   "cell_type": "code",
   "execution_count": 5,
   "id": "cf693dda",
   "metadata": {},
   "outputs": [
    {
     "name": "stdout",
     "output_type": "stream",
     "text": [
      "100\n"
     ]
    }
   ],
   "source": [
    "print(x[0])"
   ]
  },
  {
   "cell_type": "markdown",
   "id": "6b3b8792",
   "metadata": {},
   "source": [
    "## Labeling"
   ]
  },
  {
   "cell_type": "code",
   "execution_count": 6,
   "id": "f2881f0a",
   "metadata": {},
   "outputs": [],
   "source": [
    "x = pd.Series(a, index = ['x', 'y', 'z'])"
   ]
  },
  {
   "cell_type": "code",
   "execution_count": 7,
   "id": "01d7422b",
   "metadata": {},
   "outputs": [
    {
     "name": "stdout",
     "output_type": "stream",
     "text": [
      "x       100\n",
      "y    Morini\n",
      "z       100\n",
      "dtype: object\n"
     ]
    }
   ],
   "source": [
    "print(x)"
   ]
  },
  {
   "cell_type": "code",
   "execution_count": 9,
   "id": "465e333e",
   "metadata": {},
   "outputs": [
    {
     "name": "stdout",
     "output_type": "stream",
     "text": [
      "100\n"
     ]
    }
   ],
   "source": [
    "print(x['x'])"
   ]
  },
  {
   "cell_type": "markdown",
   "id": "d9fae630",
   "metadata": {},
   "source": [
    "## Key-Value Pairs as series "
   ]
  },
  {
   "cell_type": "code",
   "execution_count": 10,
   "id": "18de4e06",
   "metadata": {},
   "outputs": [
    {
     "name": "stdout",
     "output_type": "stream",
     "text": [
      "x    10\n",
      "a    20\n",
      "b    30\n",
      "dtype: int64\n"
     ]
    }
   ],
   "source": [
    "a = {'x':10, 'a':20, 'b':30}\n",
    "b = pd.Series(a)\n",
    "print(b)"
   ]
  },
  {
   "cell_type": "code",
   "execution_count": 11,
   "id": "51b09dfb",
   "metadata": {},
   "outputs": [
    {
     "name": "stdout",
     "output_type": "stream",
     "text": [
      "day1    420\n",
      "day2    380\n",
      "day3    390\n",
      "dtype: int64\n"
     ]
    }
   ],
   "source": [
    "calories = {'day1':420, 'day2':380, 'day3':390}\n",
    "dataset = pd.Series(calories)\n",
    "print(dataset)"
   ]
  },
  {
   "cell_type": "code",
   "execution_count": 12,
   "id": "2940b567",
   "metadata": {},
   "outputs": [
    {
     "name": "stdout",
     "output_type": "stream",
     "text": [
      "day1    420\n",
      "dtype: int64\n"
     ]
    }
   ],
   "source": [
    "dataset = pd.Series(calories, index = ['day1'])\n",
    "print(dataset)"
   ]
  },
  {
   "cell_type": "markdown",
   "id": "d92716ae",
   "metadata": {},
   "source": [
    "## DataFrame "
   ]
  },
  {
   "cell_type": "code",
   "execution_count": 14,
   "id": "646bc107",
   "metadata": {},
   "outputs": [
    {
     "name": "stdout",
     "output_type": "stream",
     "text": [
      "   day  calories\n",
      "0    1       420\n",
      "1    2       380\n",
      "2    3       390\n"
     ]
    }
   ],
   "source": [
    "x = {\n",
    "    'day': [1,2,3],\n",
    "    'calories': [420, 380, 390]\n",
    "}\n",
    "dataset = pd.DataFrame(x)\n",
    "print(dataset)"
   ]
  },
  {
   "cell_type": "code",
   "execution_count": 15,
   "id": "902b9ecc",
   "metadata": {},
   "outputs": [
    {
     "name": "stdout",
     "output_type": "stream",
     "text": [
      "   calories  duration\n",
      "0       430        50\n",
      "1       640        60\n",
      "2       900        80\n",
      "3       300        35\n"
     ]
    }
   ],
   "source": [
    "b = {\n",
    "    'calories': [430, 640, 900, 300],\n",
    "    'duration': [50, 60, 80, 35]\n",
    "}\n",
    "data = pd.DataFrame(b)\n",
    "print(data)"
   ]
  },
  {
   "cell_type": "markdown",
   "id": "357581b7",
   "metadata": {},
   "source": [
    "## Locating row"
   ]
  },
  {
   "cell_type": "code",
   "execution_count": 17,
   "id": "8a764d99",
   "metadata": {},
   "outputs": [
    {
     "name": "stdout",
     "output_type": "stream",
     "text": [
      "calories    430\n",
      "duration     50\n",
      "Name: 0, dtype: int64\n"
     ]
    }
   ],
   "source": [
    "print(data.loc[0])"
   ]
  },
  {
   "cell_type": "code",
   "execution_count": 19,
   "id": "0b5820f1",
   "metadata": {},
   "outputs": [
    {
     "name": "stdout",
     "output_type": "stream",
     "text": [
      "   calories  duration\n",
      "0       430        50\n",
      "1       640        60\n"
     ]
    }
   ],
   "source": [
    "print(data.loc[[0,1]])"
   ]
  },
  {
   "cell_type": "code",
   "execution_count": 20,
   "id": "7997ead2",
   "metadata": {},
   "outputs": [
    {
     "name": "stdout",
     "output_type": "stream",
     "text": [
      "   calories  duration\n",
      "0       430        50\n",
      "1       640        60\n",
      "2       900        80\n"
     ]
    }
   ],
   "source": [
    "print(data.loc[[0,1,2]])"
   ]
  },
  {
   "cell_type": "code",
   "execution_count": null,
   "id": "d1243bef",
   "metadata": {},
   "outputs": [],
   "source": []
  }
 ],
 "metadata": {
  "kernelspec": {
   "display_name": "Python 3 (ipykernel)",
   "language": "python",
   "name": "python3"
  },
  "language_info": {
   "codemirror_mode": {
    "name": "ipython",
    "version": 3
   },
   "file_extension": ".py",
   "mimetype": "text/x-python",
   "name": "python",
   "nbconvert_exporter": "python",
   "pygments_lexer": "ipython3",
   "version": "3.8.10"
  }
 },
 "nbformat": 4,
 "nbformat_minor": 5
}
